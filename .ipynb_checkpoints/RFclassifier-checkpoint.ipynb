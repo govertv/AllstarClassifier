{
 "cells": [
  {
   "cell_type": "code",
   "execution_count": 18,
   "metadata": {},
   "outputs": [],
   "source": [
    "import pandas as pd\n",
    "import numpy as np\n",
    "from sklearn.ensemble import RandomForestClassifier\n",
    "from sklearn.model_selection import train_test_split\n",
    "from sklearn.metrics import classification_report\n",
    "from sklearn.metrics import confusion_matrix"
   ]
  },
  {
   "cell_type": "code",
   "execution_count": 2,
   "metadata": {},
   "outputs": [],
   "source": [
    "data = pd.read_csv('data.csv', index_col=0)"
   ]
  },
  {
   "cell_type": "code",
   "execution_count": 3,
   "metadata": {},
   "outputs": [
    {
     "data": {
      "text/html": [
       "<div>\n",
       "<style scoped>\n",
       "    .dataframe tbody tr th:only-of-type {\n",
       "        vertical-align: middle;\n",
       "    }\n",
       "\n",
       "    .dataframe tbody tr th {\n",
       "        vertical-align: top;\n",
       "    }\n",
       "\n",
       "    .dataframe thead th {\n",
       "        text-align: right;\n",
       "    }\n",
       "</style>\n",
       "<table border=\"1\" class=\"dataframe\">\n",
       "  <thead>\n",
       "    <tr style=\"text-align: right;\">\n",
       "      <th></th>\n",
       "      <th>player_name</th>\n",
       "      <th>team_abbreviation</th>\n",
       "      <th>age</th>\n",
       "      <th>player_height</th>\n",
       "      <th>player_weight</th>\n",
       "      <th>pts</th>\n",
       "      <th>reb</th>\n",
       "      <th>ast</th>\n",
       "      <th>net_rating</th>\n",
       "      <th>oreb_pct</th>\n",
       "      <th>dreb_pct</th>\n",
       "      <th>usg_pct</th>\n",
       "      <th>ts_pct</th>\n",
       "      <th>ast_pct</th>\n",
       "      <th>season</th>\n",
       "      <th>allstar</th>\n",
       "      <th>was_allstar</th>\n",
       "      <th>previous_allstars</th>\n",
       "      <th>scaled_gp</th>\n",
       "    </tr>\n",
       "  </thead>\n",
       "  <tbody>\n",
       "    <tr>\n",
       "      <th>6226</th>\n",
       "      <td>Kirk Hinrich</td>\n",
       "      <td>ATL</td>\n",
       "      <td>30.0</td>\n",
       "      <td>193.04</td>\n",
       "      <td>86.18248</td>\n",
       "      <td>10.2</td>\n",
       "      <td>2.5</td>\n",
       "      <td>4.0</td>\n",
       "      <td>-9.5</td>\n",
       "      <td>0.011</td>\n",
       "      <td>0.090</td>\n",
       "      <td>0.171</td>\n",
       "      <td>0.543</td>\n",
       "      <td>0.221</td>\n",
       "      <td>2010</td>\n",
       "      <td>0</td>\n",
       "      <td>0</td>\n",
       "      <td>0</td>\n",
       "      <td>0.878049</td>\n",
       "    </tr>\n",
       "    <tr>\n",
       "      <th>6227</th>\n",
       "      <td>Kwame Brown</td>\n",
       "      <td>CHA</td>\n",
       "      <td>29.0</td>\n",
       "      <td>210.82</td>\n",
       "      <td>122.46984</td>\n",
       "      <td>7.9</td>\n",
       "      <td>6.8</td>\n",
       "      <td>0.7</td>\n",
       "      <td>-7.3</td>\n",
       "      <td>0.102</td>\n",
       "      <td>0.228</td>\n",
       "      <td>0.151</td>\n",
       "      <td>0.550</td>\n",
       "      <td>0.041</td>\n",
       "      <td>2010</td>\n",
       "      <td>0</td>\n",
       "      <td>0</td>\n",
       "      <td>0</td>\n",
       "      <td>0.804878</td>\n",
       "    </tr>\n",
       "    <tr>\n",
       "      <th>6228</th>\n",
       "      <td>Kobe Bryant</td>\n",
       "      <td>LAL</td>\n",
       "      <td>32.0</td>\n",
       "      <td>198.12</td>\n",
       "      <td>92.98636</td>\n",
       "      <td>25.3</td>\n",
       "      <td>5.1</td>\n",
       "      <td>4.7</td>\n",
       "      <td>7.7</td>\n",
       "      <td>0.035</td>\n",
       "      <td>0.135</td>\n",
       "      <td>0.350</td>\n",
       "      <td>0.548</td>\n",
       "      <td>0.258</td>\n",
       "      <td>2010</td>\n",
       "      <td>1</td>\n",
       "      <td>1</td>\n",
       "      <td>12</td>\n",
       "      <td>1.000000</td>\n",
       "    </tr>\n",
       "    <tr>\n",
       "      <th>6230</th>\n",
       "      <td>Kris Humphries</td>\n",
       "      <td>NJN</td>\n",
       "      <td>26.0</td>\n",
       "      <td>205.74</td>\n",
       "      <td>106.59412</td>\n",
       "      <td>10.0</td>\n",
       "      <td>10.4</td>\n",
       "      <td>1.1</td>\n",
       "      <td>-5.3</td>\n",
       "      <td>0.125</td>\n",
       "      <td>0.322</td>\n",
       "      <td>0.173</td>\n",
       "      <td>0.555</td>\n",
       "      <td>0.069</td>\n",
       "      <td>2010</td>\n",
       "      <td>0</td>\n",
       "      <td>0</td>\n",
       "      <td>0</td>\n",
       "      <td>0.902439</td>\n",
       "    </tr>\n",
       "    <tr>\n",
       "      <th>6231</th>\n",
       "      <td>Kurt Thomas</td>\n",
       "      <td>CHI</td>\n",
       "      <td>38.0</td>\n",
       "      <td>205.74</td>\n",
       "      <td>104.32616</td>\n",
       "      <td>4.1</td>\n",
       "      <td>5.8</td>\n",
       "      <td>1.2</td>\n",
       "      <td>6.8</td>\n",
       "      <td>0.077</td>\n",
       "      <td>0.227</td>\n",
       "      <td>0.096</td>\n",
       "      <td>0.527</td>\n",
       "      <td>0.074</td>\n",
       "      <td>2010</td>\n",
       "      <td>0</td>\n",
       "      <td>0</td>\n",
       "      <td>0</td>\n",
       "      <td>0.634146</td>\n",
       "    </tr>\n",
       "  </tbody>\n",
       "</table>\n",
       "</div>"
      ],
      "text/plain": [
       "         player_name team_abbreviation   age  player_height  player_weight  \\\n",
       "6226    Kirk Hinrich               ATL  30.0         193.04       86.18248   \n",
       "6227     Kwame Brown               CHA  29.0         210.82      122.46984   \n",
       "6228     Kobe Bryant               LAL  32.0         198.12       92.98636   \n",
       "6230  Kris Humphries               NJN  26.0         205.74      106.59412   \n",
       "6231     Kurt Thomas               CHI  38.0         205.74      104.32616   \n",
       "\n",
       "       pts   reb  ast  net_rating  oreb_pct  dreb_pct  usg_pct  ts_pct  \\\n",
       "6226  10.2   2.5  4.0        -9.5     0.011     0.090    0.171   0.543   \n",
       "6227   7.9   6.8  0.7        -7.3     0.102     0.228    0.151   0.550   \n",
       "6228  25.3   5.1  4.7         7.7     0.035     0.135    0.350   0.548   \n",
       "6230  10.0  10.4  1.1        -5.3     0.125     0.322    0.173   0.555   \n",
       "6231   4.1   5.8  1.2         6.8     0.077     0.227    0.096   0.527   \n",
       "\n",
       "      ast_pct  season  allstar  was_allstar  previous_allstars  scaled_gp  \n",
       "6226    0.221    2010        0            0                  0   0.878049  \n",
       "6227    0.041    2010        0            0                  0   0.804878  \n",
       "6228    0.258    2010        1            1                 12   1.000000  \n",
       "6230    0.069    2010        0            0                  0   0.902439  \n",
       "6231    0.074    2010        0            0                  0   0.634146  "
      ]
     },
     "execution_count": 3,
     "metadata": {},
     "output_type": "execute_result"
    }
   ],
   "source": [
    "data.head()"
   ]
  },
  {
   "cell_type": "code",
   "execution_count": 6,
   "metadata": {},
   "outputs": [],
   "source": [
    "#split off 2019 data for later use\n",
    "is_2019 = (data['season'] == 2019)\n",
    "data_2019 = data[is_2019]\n",
    "data = data[~is_2019]"
   ]
  },
  {
   "cell_type": "code",
   "execution_count": 7,
   "metadata": {},
   "outputs": [],
   "source": [
    "feature_cols = ['pts', 'reb', 'ast', 'oreb_pct', 'dreb_pct', 'usg_pct', 'ts_pct', 'ast_pct', 'was_allstar', 'previous_allstars', 'scaled_gp']\n",
    "X = data[feature_cols].values\n",
    "y = data['allstar'].values"
   ]
  },
  {
   "cell_type": "code",
   "execution_count": 8,
   "metadata": {},
   "outputs": [],
   "source": [
    "X_train, X_test, y_train, y_test = train_test_split(X, y, test_size = 0.2, random_state = 100)"
   ]
  },
  {
   "cell_type": "code",
   "execution_count": 10,
   "metadata": {},
   "outputs": [
    {
     "data": {
      "text/plain": [
       "RandomForestClassifier(bootstrap=True, ccp_alpha=0.0, class_weight=None,\n",
       "                       criterion='gini', max_depth=None, max_features='auto',\n",
       "                       max_leaf_nodes=None, max_samples=None,\n",
       "                       min_impurity_decrease=0.0, min_impurity_split=None,\n",
       "                       min_samples_leaf=1, min_samples_split=2,\n",
       "                       min_weight_fraction_leaf=0.0, n_estimators=100,\n",
       "                       n_jobs=None, oob_score=False, random_state=None,\n",
       "                       verbose=0, warm_start=False)"
      ]
     },
     "execution_count": 10,
     "metadata": {},
     "output_type": "execute_result"
    }
   ],
   "source": [
    "rf = RandomForestClassifier()\n",
    "rf.fit(X_train, y_train)\n"
   ]
  },
  {
   "cell_type": "code",
   "execution_count": 19,
   "metadata": {},
   "outputs": [
    {
     "name": "stdout",
     "output_type": "stream",
     "text": [
      "              precision    recall  f1-score   support\n",
      "\n",
      "           0       0.96      0.99      0.98       466\n",
      "           1       0.84      0.65      0.74        49\n",
      "\n",
      "    accuracy                           0.96       515\n",
      "   macro avg       0.90      0.82      0.86       515\n",
      "weighted avg       0.95      0.96      0.95       515\n",
      "\n",
      "[[460   6]\n",
      " [ 17  32]]\n"
     ]
    }
   ],
   "source": [
    "y_pred = rf.predict(X_test)\n",
    "print(classification_report(y_test,y_pred))\n",
    "print(confusion_matrix(y_test,y_pred))"
   ]
  },
  {
   "cell_type": "markdown",
   "metadata": {},
   "source": [
    "Not bad for the first simple implementation"
   ]
  }
 ],
 "metadata": {
  "kernelspec": {
   "display_name": "Python 3",
   "language": "python",
   "name": "python3"
  },
  "language_info": {
   "codemirror_mode": {
    "name": "ipython",
    "version": 3
   },
   "file_extension": ".py",
   "mimetype": "text/x-python",
   "name": "python",
   "nbconvert_exporter": "python",
   "pygments_lexer": "ipython3",
   "version": "3.7.6"
  }
 },
 "nbformat": 4,
 "nbformat_minor": 4
}
