{
 "cells": [
  {
   "cell_type": "code",
   "execution_count": 1,
   "metadata": {},
   "outputs": [],
   "source": [
    "import pandas as pd"
   ]
  },
  {
   "cell_type": "code",
   "execution_count": 2,
   "metadata": {},
   "outputs": [],
   "source": [
    "#read in the data from csv\n",
    "players = pd.read_csv('all_seasons.csv', index_col=0)\n",
    "allstars = pd.read_csv('allstars.csv', index_col=0)"
   ]
  },
  {
   "cell_type": "code",
   "execution_count": 3,
   "metadata": {},
   "outputs": [
    {
     "data": {
      "text/html": [
       "<div>\n",
       "<style scoped>\n",
       "    .dataframe tbody tr th:only-of-type {\n",
       "        vertical-align: middle;\n",
       "    }\n",
       "\n",
       "    .dataframe tbody tr th {\n",
       "        vertical-align: top;\n",
       "    }\n",
       "\n",
       "    .dataframe thead th {\n",
       "        text-align: right;\n",
       "    }\n",
       "</style>\n",
       "<table border=\"1\" class=\"dataframe\">\n",
       "  <thead>\n",
       "    <tr style=\"text-align: right;\">\n",
       "      <th></th>\n",
       "      <th>player_name</th>\n",
       "      <th>team_abbreviation</th>\n",
       "      <th>age</th>\n",
       "      <th>player_height</th>\n",
       "      <th>player_weight</th>\n",
       "      <th>college</th>\n",
       "      <th>country</th>\n",
       "      <th>draft_year</th>\n",
       "      <th>draft_round</th>\n",
       "      <th>draft_number</th>\n",
       "      <th>...</th>\n",
       "      <th>pts</th>\n",
       "      <th>reb</th>\n",
       "      <th>ast</th>\n",
       "      <th>net_rating</th>\n",
       "      <th>oreb_pct</th>\n",
       "      <th>dreb_pct</th>\n",
       "      <th>usg_pct</th>\n",
       "      <th>ts_pct</th>\n",
       "      <th>ast_pct</th>\n",
       "      <th>season</th>\n",
       "    </tr>\n",
       "  </thead>\n",
       "  <tbody>\n",
       "    <tr>\n",
       "      <th>392</th>\n",
       "      <td>Michael Jordan</td>\n",
       "      <td>CHI</td>\n",
       "      <td>34.0</td>\n",
       "      <td>198.12</td>\n",
       "      <td>97.975872</td>\n",
       "      <td>North Carolina</td>\n",
       "      <td>USA</td>\n",
       "      <td>1984</td>\n",
       "      <td>1</td>\n",
       "      <td>3</td>\n",
       "      <td>...</td>\n",
       "      <td>29.6</td>\n",
       "      <td>5.9</td>\n",
       "      <td>4.3</td>\n",
       "      <td>13.4</td>\n",
       "      <td>0.042</td>\n",
       "      <td>0.132</td>\n",
       "      <td>0.331</td>\n",
       "      <td>0.567</td>\n",
       "      <td>0.208</td>\n",
       "      <td>1996-97</td>\n",
       "    </tr>\n",
       "    <tr>\n",
       "      <th>467</th>\n",
       "      <td>Michael Jordan</td>\n",
       "      <td>CHI</td>\n",
       "      <td>35.0</td>\n",
       "      <td>198.12</td>\n",
       "      <td>97.975872</td>\n",
       "      <td>North Carolina</td>\n",
       "      <td>USA</td>\n",
       "      <td>1984</td>\n",
       "      <td>1</td>\n",
       "      <td>3</td>\n",
       "      <td>...</td>\n",
       "      <td>28.7</td>\n",
       "      <td>5.8</td>\n",
       "      <td>3.5</td>\n",
       "      <td>8.5</td>\n",
       "      <td>0.047</td>\n",
       "      <td>0.125</td>\n",
       "      <td>0.336</td>\n",
       "      <td>0.533</td>\n",
       "      <td>0.174</td>\n",
       "      <td>1997-98</td>\n",
       "    </tr>\n",
       "    <tr>\n",
       "      <th>2208</th>\n",
       "      <td>Michael Jordan</td>\n",
       "      <td>WAS</td>\n",
       "      <td>39.0</td>\n",
       "      <td>198.12</td>\n",
       "      <td>97.975872</td>\n",
       "      <td>North Carolina</td>\n",
       "      <td>USA</td>\n",
       "      <td>1984</td>\n",
       "      <td>1</td>\n",
       "      <td>3</td>\n",
       "      <td>...</td>\n",
       "      <td>22.9</td>\n",
       "      <td>5.7</td>\n",
       "      <td>5.2</td>\n",
       "      <td>-0.3</td>\n",
       "      <td>0.027</td>\n",
       "      <td>0.163</td>\n",
       "      <td>0.361</td>\n",
       "      <td>0.468</td>\n",
       "      <td>0.295</td>\n",
       "      <td>2001-02</td>\n",
       "    </tr>\n",
       "    <tr>\n",
       "      <th>3055</th>\n",
       "      <td>Michael Jordan</td>\n",
       "      <td>WAS</td>\n",
       "      <td>40.0</td>\n",
       "      <td>198.12</td>\n",
       "      <td>97.975872</td>\n",
       "      <td>North Carolina</td>\n",
       "      <td>USA</td>\n",
       "      <td>1984</td>\n",
       "      <td>1</td>\n",
       "      <td>3</td>\n",
       "      <td>...</td>\n",
       "      <td>20.0</td>\n",
       "      <td>6.1</td>\n",
       "      <td>3.8</td>\n",
       "      <td>0.0</td>\n",
       "      <td>0.028</td>\n",
       "      <td>0.167</td>\n",
       "      <td>0.288</td>\n",
       "      <td>0.491</td>\n",
       "      <td>0.207</td>\n",
       "      <td>2002-03</td>\n",
       "    </tr>\n",
       "  </tbody>\n",
       "</table>\n",
       "<p>4 rows × 21 columns</p>\n",
       "</div>"
      ],
      "text/plain": [
       "         player_name team_abbreviation   age  player_height  player_weight  \\\n",
       "392   Michael Jordan               CHI  34.0         198.12      97.975872   \n",
       "467   Michael Jordan               CHI  35.0         198.12      97.975872   \n",
       "2208  Michael Jordan               WAS  39.0         198.12      97.975872   \n",
       "3055  Michael Jordan               WAS  40.0         198.12      97.975872   \n",
       "\n",
       "             college country draft_year draft_round draft_number  ...   pts  \\\n",
       "392   North Carolina     USA       1984           1            3  ...  29.6   \n",
       "467   North Carolina     USA       1984           1            3  ...  28.7   \n",
       "2208  North Carolina     USA       1984           1            3  ...  22.9   \n",
       "3055  North Carolina     USA       1984           1            3  ...  20.0   \n",
       "\n",
       "      reb  ast  net_rating  oreb_pct  dreb_pct  usg_pct  ts_pct  ast_pct  \\\n",
       "392   5.9  4.3        13.4     0.042     0.132    0.331   0.567    0.208   \n",
       "467   5.8  3.5         8.5     0.047     0.125    0.336   0.533    0.174   \n",
       "2208  5.7  5.2        -0.3     0.027     0.163    0.361   0.468    0.295   \n",
       "3055  6.1  3.8         0.0     0.028     0.167    0.288   0.491    0.207   \n",
       "\n",
       "       season  \n",
       "392   1996-97  \n",
       "467   1997-98  \n",
       "2208  2001-02  \n",
       "3055  2002-03  \n",
       "\n",
       "[4 rows x 21 columns]"
      ]
     },
     "metadata": {},
     "output_type": "display_data"
    },
    {
     "name": "stdout",
     "output_type": "stream",
     "text": [
      "1996-97\n"
     ]
    }
   ],
   "source": [
    "display(players[players['player_name'] == \"Michael Jordan\"])\n",
    "print(players.season.min())"
   ]
  },
  {
   "cell_type": "markdown",
   "metadata": {},
   "source": [
    "The players dataframe has stats from every season from every player starting from 1996 to now. The 2019-20 season is incomplete, due to the coronavirus. To predict the current season allstars mid season, we should make sure there are no full season counting stats in the data, since they cannot be compared between mid or full season. The only stat like this in the dataframe is gp - games played. It can be changed to a fraction of games played instead, to solve the problem.\n",
    "\n",
    "The NBA is always changing, so using old data to train for current models might not be smart. Limitting the data will also make everything run faster. Initially I will only use the data from 2010 onwards, maybe I will experiment with using the older data aswell later.\n",
    "\n",
    "Players with very low counting stats like pts/reb/ast or who appeared in very few games are unlikely to be allstars, we can check this later after labelling the data frame."
   ]
  },
  {
   "cell_type": "code",
   "execution_count": 4,
   "metadata": {},
   "outputs": [
    {
     "name": "stdout",
     "output_type": "stream",
     "text": [
      "Index(['player_name', 'team_abbreviation', 'age', 'player_height',\n",
      "       'player_weight', 'college', 'country', 'draft_year', 'draft_round',\n",
      "       'draft_number', 'gp', 'pts', 'reb', 'ast', 'net_rating', 'oreb_pct',\n",
      "       'dreb_pct', 'usg_pct', 'ts_pct', 'ast_pct', 'season'],\n",
      "      dtype='object')\n"
     ]
    }
   ],
   "source": [
    "print(players.columns)"
   ]
  },
  {
   "cell_type": "code",
   "execution_count": 5,
   "metadata": {},
   "outputs": [],
   "source": [
    "col_to_keep = ['player_name', 'team_abbreviation', 'age', 'player_height', 'player_weight', 'gp', 'pts', 'reb', 'ast', 'net_rating', 'oreb_pct',\n",
    "       'dreb_pct', 'usg_pct', 'ts_pct', 'ast_pct', 'season']\n",
    "players = players[col_to_keep]"
   ]
  },
  {
   "cell_type": "code",
   "execution_count": 6,
   "metadata": {},
   "outputs": [
    {
     "name": "stdout",
     "output_type": "stream",
     "text": [
      "2010-11\n",
      "4919\n"
     ]
    }
   ],
   "source": [
    "players = players[players.season >= '2010-11']\n",
    "print(players.season.min())\n",
    "print(len(players))"
   ]
  },
  {
   "cell_type": "markdown",
   "metadata": {},
   "source": [
    "To actually label the data we need the allstars dataframe, which contains the all stats from every season, dating back to 1990.\n",
    "It is also possible to creature features out of this data, for example to predict if a player is an allstar in 2019-20, it would be useful to know if they were an allstar in 2018-19. This is likely to be a very powerful feature, it will be interesting to see how a classifier performs both with and without using this feature. A similar feature would be the total amount of allstar selections the player had prior to the current season."
   ]
  },
  {
   "cell_type": "code",
   "execution_count": 7,
   "metadata": {},
   "outputs": [
    {
     "data": {
      "text/html": [
       "<div>\n",
       "<style scoped>\n",
       "    .dataframe tbody tr th:only-of-type {\n",
       "        vertical-align: middle;\n",
       "    }\n",
       "\n",
       "    .dataframe tbody tr th {\n",
       "        vertical-align: top;\n",
       "    }\n",
       "\n",
       "    .dataframe thead th {\n",
       "        text-align: right;\n",
       "    }\n",
       "</style>\n",
       "<table border=\"1\" class=\"dataframe\">\n",
       "  <thead>\n",
       "    <tr style=\"text-align: right;\">\n",
       "      <th></th>\n",
       "      <th>Player</th>\n",
       "      <th>Age</th>\n",
       "      <th>Tm</th>\n",
       "      <th>Lg</th>\n",
       "      <th>Season</th>\n",
       "    </tr>\n",
       "    <tr>\n",
       "      <th>Rk</th>\n",
       "      <th></th>\n",
       "      <th></th>\n",
       "      <th></th>\n",
       "      <th></th>\n",
       "      <th></th>\n",
       "    </tr>\n",
       "  </thead>\n",
       "  <tbody>\n",
       "    <tr>\n",
       "      <th>1</th>\n",
       "      <td>Bam Adebayo\\adebaba01</td>\n",
       "      <td>22</td>\n",
       "      <td>MIA</td>\n",
       "      <td>NBA</td>\n",
       "      <td>2019-20</td>\n",
       "    </tr>\n",
       "    <tr>\n",
       "      <th>2</th>\n",
       "      <td>Giannis Antetokounmpo\\antetgi01</td>\n",
       "      <td>25</td>\n",
       "      <td>MIL</td>\n",
       "      <td>NBA</td>\n",
       "      <td>2019-20</td>\n",
       "    </tr>\n",
       "    <tr>\n",
       "      <th>3</th>\n",
       "      <td>Devin Booker\\bookede01</td>\n",
       "      <td>23</td>\n",
       "      <td>PHO</td>\n",
       "      <td>NBA</td>\n",
       "      <td>2019-20</td>\n",
       "    </tr>\n",
       "    <tr>\n",
       "      <th>4</th>\n",
       "      <td>Jimmy Butler\\butleji01</td>\n",
       "      <td>30</td>\n",
       "      <td>MIA</td>\n",
       "      <td>NBA</td>\n",
       "      <td>2019-20</td>\n",
       "    </tr>\n",
       "    <tr>\n",
       "      <th>5</th>\n",
       "      <td>Anthony Davis\\davisan02</td>\n",
       "      <td>26</td>\n",
       "      <td>LAL</td>\n",
       "      <td>NBA</td>\n",
       "      <td>2019-20</td>\n",
       "    </tr>\n",
       "  </tbody>\n",
       "</table>\n",
       "</div>"
      ],
      "text/plain": [
       "                             Player  Age   Tm   Lg   Season\n",
       "Rk                                                         \n",
       "1             Bam Adebayo\\adebaba01   22  MIA  NBA  2019-20\n",
       "2   Giannis Antetokounmpo\\antetgi01   25  MIL  NBA  2019-20\n",
       "3            Devin Booker\\bookede01   23  PHO  NBA  2019-20\n",
       "4            Jimmy Butler\\butleji01   30  MIA  NBA  2019-20\n",
       "5           Anthony Davis\\davisan02   26  LAL  NBA  2019-20"
      ]
     },
     "execution_count": 7,
     "metadata": {},
     "output_type": "execute_result"
    }
   ],
   "source": [
    "allstars.head()"
   ]
  },
  {
   "cell_type": "code",
   "execution_count": 8,
   "metadata": {},
   "outputs": [
    {
     "name": "stdout",
     "output_type": "stream",
     "text": [
      "Govert\\123\n",
      "Govert\n"
     ]
    }
   ],
   "source": [
    "#Try to make a function that can fix the name strings, this is necessary to combine data from both tables.\n",
    "def fix_name(name):\n",
    "    split = name.find('\\\\')\n",
    "    return name[:split]\n",
    "\n",
    "test_name = 'Govert\\\\123'\n",
    "print(test_name)\n",
    "test = fix_name(test_name)\n",
    "print(test)\n",
    "\n",
    "#Actually this can also be done inline with a lambda function\n",
    "allstars['Player'] = allstars.Player.apply(lambda x: x[:x.find('\\\\')])\n",
    "    "
   ]
  },
  {
   "cell_type": "code",
   "execution_count": 9,
   "metadata": {},
   "outputs": [
    {
     "data": {
      "text/html": [
       "<div>\n",
       "<style scoped>\n",
       "    .dataframe tbody tr th:only-of-type {\n",
       "        vertical-align: middle;\n",
       "    }\n",
       "\n",
       "    .dataframe tbody tr th {\n",
       "        vertical-align: top;\n",
       "    }\n",
       "\n",
       "    .dataframe thead th {\n",
       "        text-align: right;\n",
       "    }\n",
       "</style>\n",
       "<table border=\"1\" class=\"dataframe\">\n",
       "  <thead>\n",
       "    <tr style=\"text-align: right;\">\n",
       "      <th></th>\n",
       "      <th>Player</th>\n",
       "      <th>Age</th>\n",
       "      <th>Tm</th>\n",
       "      <th>Lg</th>\n",
       "      <th>Season</th>\n",
       "    </tr>\n",
       "    <tr>\n",
       "      <th>Rk</th>\n",
       "      <th></th>\n",
       "      <th></th>\n",
       "      <th></th>\n",
       "      <th></th>\n",
       "      <th></th>\n",
       "    </tr>\n",
       "  </thead>\n",
       "  <tbody>\n",
       "    <tr>\n",
       "      <th>1</th>\n",
       "      <td>Bam Adebayo</td>\n",
       "      <td>22</td>\n",
       "      <td>MIA</td>\n",
       "      <td>NBA</td>\n",
       "      <td>2019-20</td>\n",
       "    </tr>\n",
       "    <tr>\n",
       "      <th>2</th>\n",
       "      <td>Giannis Antetokounmpo</td>\n",
       "      <td>25</td>\n",
       "      <td>MIL</td>\n",
       "      <td>NBA</td>\n",
       "      <td>2019-20</td>\n",
       "    </tr>\n",
       "    <tr>\n",
       "      <th>3</th>\n",
       "      <td>Devin Booker</td>\n",
       "      <td>23</td>\n",
       "      <td>PHO</td>\n",
       "      <td>NBA</td>\n",
       "      <td>2019-20</td>\n",
       "    </tr>\n",
       "    <tr>\n",
       "      <th>4</th>\n",
       "      <td>Jimmy Butler</td>\n",
       "      <td>30</td>\n",
       "      <td>MIA</td>\n",
       "      <td>NBA</td>\n",
       "      <td>2019-20</td>\n",
       "    </tr>\n",
       "    <tr>\n",
       "      <th>5</th>\n",
       "      <td>Anthony Davis</td>\n",
       "      <td>26</td>\n",
       "      <td>LAL</td>\n",
       "      <td>NBA</td>\n",
       "      <td>2019-20</td>\n",
       "    </tr>\n",
       "  </tbody>\n",
       "</table>\n",
       "</div>"
      ],
      "text/plain": [
       "                   Player  Age   Tm   Lg   Season\n",
       "Rk                                               \n",
       "1             Bam Adebayo   22  MIA  NBA  2019-20\n",
       "2   Giannis Antetokounmpo   25  MIL  NBA  2019-20\n",
       "3            Devin Booker   23  PHO  NBA  2019-20\n",
       "4            Jimmy Butler   30  MIA  NBA  2019-20\n",
       "5           Anthony Davis   26  LAL  NBA  2019-20"
      ]
     },
     "metadata": {},
     "output_type": "display_data"
    }
   ],
   "source": [
    "display(allstars.head())"
   ]
  },
  {
   "cell_type": "code",
   "execution_count": 10,
   "metadata": {},
   "outputs": [],
   "source": [
    "def is_allstar(name, season):\n",
    "    df = allstars[(allstars.Player == name) & (allstars.Season == season)]\n",
    "    return len(df)\n",
    "\n",
    "\n",
    "players['allstar'] = players[['player_name','season']].apply(lambda x: is_allstar(x.iloc[0], x.iloc[1]), axis=1)"
   ]
  },
  {
   "cell_type": "code",
   "execution_count": 11,
   "metadata": {},
   "outputs": [
    {
     "data": {
      "text/html": [
       "<div>\n",
       "<style scoped>\n",
       "    .dataframe tbody tr th:only-of-type {\n",
       "        vertical-align: middle;\n",
       "    }\n",
       "\n",
       "    .dataframe tbody tr th {\n",
       "        vertical-align: top;\n",
       "    }\n",
       "\n",
       "    .dataframe thead th {\n",
       "        text-align: right;\n",
       "    }\n",
       "</style>\n",
       "<table border=\"1\" class=\"dataframe\">\n",
       "  <thead>\n",
       "    <tr style=\"text-align: right;\">\n",
       "      <th></th>\n",
       "      <th>player_name</th>\n",
       "      <th>team_abbreviation</th>\n",
       "      <th>age</th>\n",
       "      <th>player_height</th>\n",
       "      <th>player_weight</th>\n",
       "      <th>gp</th>\n",
       "      <th>pts</th>\n",
       "      <th>reb</th>\n",
       "      <th>ast</th>\n",
       "      <th>net_rating</th>\n",
       "      <th>oreb_pct</th>\n",
       "      <th>dreb_pct</th>\n",
       "      <th>usg_pct</th>\n",
       "      <th>ts_pct</th>\n",
       "      <th>ast_pct</th>\n",
       "      <th>season</th>\n",
       "      <th>allstar</th>\n",
       "    </tr>\n",
       "  </thead>\n",
       "  <tbody>\n",
       "    <tr>\n",
       "      <th>6226</th>\n",
       "      <td>Kirk Hinrich</td>\n",
       "      <td>ATL</td>\n",
       "      <td>30.0</td>\n",
       "      <td>193.04</td>\n",
       "      <td>86.18248</td>\n",
       "      <td>72</td>\n",
       "      <td>10.2</td>\n",
       "      <td>2.5</td>\n",
       "      <td>4.0</td>\n",
       "      <td>-9.5</td>\n",
       "      <td>0.011</td>\n",
       "      <td>0.090</td>\n",
       "      <td>0.171</td>\n",
       "      <td>0.543</td>\n",
       "      <td>0.221</td>\n",
       "      <td>2010-11</td>\n",
       "      <td>0</td>\n",
       "    </tr>\n",
       "    <tr>\n",
       "      <th>6227</th>\n",
       "      <td>Kwame Brown</td>\n",
       "      <td>CHA</td>\n",
       "      <td>29.0</td>\n",
       "      <td>210.82</td>\n",
       "      <td>122.46984</td>\n",
       "      <td>66</td>\n",
       "      <td>7.9</td>\n",
       "      <td>6.8</td>\n",
       "      <td>0.7</td>\n",
       "      <td>-7.3</td>\n",
       "      <td>0.102</td>\n",
       "      <td>0.228</td>\n",
       "      <td>0.151</td>\n",
       "      <td>0.550</td>\n",
       "      <td>0.041</td>\n",
       "      <td>2010-11</td>\n",
       "      <td>0</td>\n",
       "    </tr>\n",
       "    <tr>\n",
       "      <th>6228</th>\n",
       "      <td>Kobe Bryant</td>\n",
       "      <td>LAL</td>\n",
       "      <td>32.0</td>\n",
       "      <td>198.12</td>\n",
       "      <td>92.98636</td>\n",
       "      <td>82</td>\n",
       "      <td>25.3</td>\n",
       "      <td>5.1</td>\n",
       "      <td>4.7</td>\n",
       "      <td>7.7</td>\n",
       "      <td>0.035</td>\n",
       "      <td>0.135</td>\n",
       "      <td>0.350</td>\n",
       "      <td>0.548</td>\n",
       "      <td>0.258</td>\n",
       "      <td>2010-11</td>\n",
       "      <td>1</td>\n",
       "    </tr>\n",
       "    <tr>\n",
       "      <th>6229</th>\n",
       "      <td>Kosta Koufos</td>\n",
       "      <td>DEN</td>\n",
       "      <td>22.0</td>\n",
       "      <td>213.36</td>\n",
       "      <td>120.20188</td>\n",
       "      <td>50</td>\n",
       "      <td>3.2</td>\n",
       "      <td>2.6</td>\n",
       "      <td>0.1</td>\n",
       "      <td>-6.1</td>\n",
       "      <td>0.134</td>\n",
       "      <td>0.185</td>\n",
       "      <td>0.189</td>\n",
       "      <td>0.474</td>\n",
       "      <td>0.025</td>\n",
       "      <td>2010-11</td>\n",
       "      <td>0</td>\n",
       "    </tr>\n",
       "    <tr>\n",
       "      <th>6230</th>\n",
       "      <td>Kris Humphries</td>\n",
       "      <td>NJN</td>\n",
       "      <td>26.0</td>\n",
       "      <td>205.74</td>\n",
       "      <td>106.59412</td>\n",
       "      <td>74</td>\n",
       "      <td>10.0</td>\n",
       "      <td>10.4</td>\n",
       "      <td>1.1</td>\n",
       "      <td>-5.3</td>\n",
       "      <td>0.125</td>\n",
       "      <td>0.322</td>\n",
       "      <td>0.173</td>\n",
       "      <td>0.555</td>\n",
       "      <td>0.069</td>\n",
       "      <td>2010-11</td>\n",
       "      <td>0</td>\n",
       "    </tr>\n",
       "  </tbody>\n",
       "</table>\n",
       "</div>"
      ],
      "text/plain": [
       "         player_name team_abbreviation   age  player_height  player_weight  \\\n",
       "6226    Kirk Hinrich               ATL  30.0         193.04       86.18248   \n",
       "6227     Kwame Brown               CHA  29.0         210.82      122.46984   \n",
       "6228     Kobe Bryant               LAL  32.0         198.12       92.98636   \n",
       "6229    Kosta Koufos               DEN  22.0         213.36      120.20188   \n",
       "6230  Kris Humphries               NJN  26.0         205.74      106.59412   \n",
       "\n",
       "      gp   pts   reb  ast  net_rating  oreb_pct  dreb_pct  usg_pct  ts_pct  \\\n",
       "6226  72  10.2   2.5  4.0        -9.5     0.011     0.090    0.171   0.543   \n",
       "6227  66   7.9   6.8  0.7        -7.3     0.102     0.228    0.151   0.550   \n",
       "6228  82  25.3   5.1  4.7         7.7     0.035     0.135    0.350   0.548   \n",
       "6229  50   3.2   2.6  0.1        -6.1     0.134     0.185    0.189   0.474   \n",
       "6230  74  10.0  10.4  1.1        -5.3     0.125     0.322    0.173   0.555   \n",
       "\n",
       "      ast_pct   season  allstar  \n",
       "6226    0.221  2010-11        0  \n",
       "6227    0.041  2010-11        0  \n",
       "6228    0.258  2010-11        1  \n",
       "6229    0.025  2010-11        0  \n",
       "6230    0.069  2010-11        0  "
      ]
     },
     "execution_count": 11,
     "metadata": {},
     "output_type": "execute_result"
    }
   ],
   "source": [
    "players.head()"
   ]
  },
  {
   "cell_type": "code",
   "execution_count": 12,
   "metadata": {},
   "outputs": [
    {
     "name": "stdout",
     "output_type": "stream",
     "text": [
      "0    4667\n",
      "1     252\n",
      "Name: allstar, dtype: int64\n",
      "259\n"
     ]
    }
   ],
   "source": [
    "print(players.allstar.value_counts())\n",
    "print(len(allstars[allstars.Season >= '2010-11']))"
   ]
  },
  {
   "cell_type": "markdown",
   "metadata": {},
   "source": [
    "Oops, looks like we've missed some players. Upon inspecting the data frames, it seems the problem is that the players dataframe has ascii formatting and the allstars dataframe has unicode, so one of them contains accented characters and the other doesnt. Let's try to fix this..."
   ]
  },
  {
   "cell_type": "code",
   "execution_count": 13,
   "metadata": {},
   "outputs": [
    {
     "name": "stdout",
     "output_type": "stream",
     "text": [
      "Input Text::Luka Dončić\n",
      "Output Text::Luka Doncic\n",
      "Input Text::Nikola Jokić\n",
      "Output Text::Nikola Jokic\n",
      "Input Text::Nikola Jokić\n",
      "Output Text::Nikola Jokic\n",
      "Input Text::Nikola Vučević\n",
      "Output Text::Nikola Vucevic\n",
      "Input Text::Goran Dragić\n",
      "Output Text::Goran Dragic\n",
      "Input Text::Kristaps Porziņģis\n",
      "Output Text::Kristaps Porzingis\n",
      "Input Text::Manu Ginóbili\n",
      "Output Text::Manu Ginobili\n",
      "Input Text::Manu Ginóbili\n",
      "Output Text::Manu Ginobili\n",
      "Input Text::Peja Stojaković\n",
      "Output Text::Peja Stojakovic\n",
      "Input Text::Peja Stojaković\n",
      "Output Text::Peja Stojakovic\n",
      "Input Text::Peja Stojaković\n",
      "Output Text::Peja Stojakovic\n"
     ]
    }
   ],
   "source": [
    "import unidecode\n",
    "\n",
    "def extract_word(text):\n",
    "    oldstr = text\n",
    "    newstr = unidecode.unidecode(text)\n",
    "    if newstr != oldstr:\n",
    "        print(\"Input Text::{}\".format(oldstr))\n",
    "        print(\"Output Text::{}\".format(newstr))\n",
    "    return newstr\n",
    "\n",
    "allstars['Player'] = allstars.Player.apply(extract_word)"
   ]
  },
  {
   "cell_type": "code",
   "execution_count": 14,
   "metadata": {},
   "outputs": [
    {
     "name": "stdout",
     "output_type": "stream",
     "text": [
      "0    4660\n",
      "1     259\n",
      "Name: allstar, dtype: int64\n",
      "259\n"
     ]
    }
   ],
   "source": [
    "players['allstar'] = players[['player_name','season']].apply(lambda x: is_allstar(x.iloc[0], x.iloc[1]), axis=1)\n",
    "print(players.allstar.value_counts())\n",
    "print(len(allstars[allstars.Season >= '2010-11']))\n"
   ]
  },
  {
   "cell_type": "markdown",
   "metadata": {},
   "source": [
    "Success! Now let's try if it is possible to filter out some players based on low counting stats or low games played."
   ]
  },
  {
   "cell_type": "code",
   "execution_count": 23,
   "metadata": {},
   "outputs": [
    {
     "name": "stdout",
     "output_type": "stream",
     "text": [
      "0    2616\n",
      "1     259\n",
      "Name: allstar, dtype: int64\n"
     ]
    }
   ],
   "source": [
    "statfilter = (players.pts + players.reb + players.ast) > 10\n",
    "players = players[statfilter]\n",
    "print(players.allstar.value_counts())"
   ]
  },
  {
   "cell_type": "code",
   "execution_count": 22,
   "metadata": {},
   "outputs": [
    {
     "name": "stdout",
     "output_type": "stream",
     "text": [
      "0    2495\n",
      "1     257\n",
      "Name: allstar, dtype: int64\n"
     ]
    }
   ],
   "source": [
    "test = players[players['gp'] > 20]\n",
    "print(test.allstar.value_counts())"
   ]
  },
  {
   "cell_type": "markdown",
   "metadata": {},
   "source": [
    "Looks like filtering on games played is not very useful, it doesn't filter out that many rows of data and we also lose some actual all star seasons. Now let's add more features based on previous allstar seasons."
   ]
  },
  {
   "cell_type": "code",
   "execution_count": null,
   "metadata": {},
   "outputs": [],
   "source": []
  }
 ],
 "metadata": {
  "kernelspec": {
   "display_name": "Python 3",
   "language": "python",
   "name": "python3"
  },
  "language_info": {
   "codemirror_mode": {
    "name": "ipython",
    "version": 3
   },
   "file_extension": ".py",
   "mimetype": "text/x-python",
   "name": "python",
   "nbconvert_exporter": "python",
   "pygments_lexer": "ipython3",
   "version": "3.7.6"
  }
 },
 "nbformat": 4,
 "nbformat_minor": 4
}
